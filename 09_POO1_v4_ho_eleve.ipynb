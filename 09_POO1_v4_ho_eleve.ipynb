{
 "cells": [
  {
   "cell_type": "markdown",
   "metadata": {},
   "source": [
    "# Premiers pas en programmation orientée objet\n",
    "\n",
    "## Table des matières\n",
    "\n",
    "1. [Objectifs](#objectifs)\n",
    "1. [Introduction](#introduction)\n",
    "1. [Définir une classe simple](#definir-une-classe-simple)\n",
    "1. [Objets et référence](#objets-et-reference)\n",
    "1. [Variables de classe](#variables-de-classe)\n",
    "1. [Méthodes de classe et méthodes statiques](#methodes-de-classe-et-methodes-statiques)\n",
    "1. [Espace de noms]()\n",
    "1. [Encapsulation](#encapsulation) \n",
    "1. [A retenir](#a-retenir)\n",
    "1. [Références](#references)\n"
   ]
  },
  {
   "cell_type": "markdown",
   "metadata": {},
   "source": [
    "## Objectifs\n",
    "\n",
    "1. Savoir créer et utiliser des classes simples\n",
    "1. Savoir créer des objets instances de classes simples\n",
    "1. Savoir faire évoluer un objet en lui envoyant des messages\n",
    "1. Comprendre la notion d'encapsulation"
   ]
  },
  {
   "cell_type": "markdown",
   "metadata": {},
   "source": [
    "## Introduction\n",
    "\n",
    "![a](https://static.grosjean.io/bugnon/oop1.png)\n",
    "\n",
    "Nous allons aborder dans ce chapitre, la **programmation orientée objet (POO)**. Un programme est vu comme une collection de données qui évoluent et qui interagissent. Ce sont ces données qui sont appelées des objets. La pluspart des langages de programmation modernes et répandus sont orientés objet. "
   ]
  },
  {
   "cell_type": "markdown",
   "metadata": {},
   "source": [
    "### Les objets\n",
    "Jusqu'à présent, nous avons vu la **programmation procédurale**. Nous allons maintenant aborder un nouveau **paradigme** de programmation dans ce chapitre nous permettant de structurer le code d'une application d'une autre manière. \n",
    "\n",
    "La **POO** permet de structurer les logiciels en un assemblage d'entités indépendantes qui interragissent et qu'on appelle **objets**."
   ]
  },
  {
   "cell_type": "markdown",
   "metadata": {},
   "source": [
    "Avant de présenter la POO plus en détails dans les chapitres suivants, nous allons rapidement comparer la programmation **procédurale** avec la programmation **orientée objet** avec deux exemples simples.\n",
    "\n",
    "Le but de la **programmation procédurale** est d'effectuer une tâche en la découpant en plusieurs sous-tâches. Par exemple, vous devez préparer le souper, pour cela vous devez:\n",
    "1. Inviter des gens\n",
    "1. Nettoyer la maison\n",
    "1. Faire à manger\n",
    "1. Préparer la table, et ainsi de suite..."
   ]
  },
  {
   "cell_type": "markdown",
   "metadata": {},
   "source": [
    "Dans l'exemple ci-dessus, préparer le dinner serait notre programme principal et les quatre tâches ci-dessus serait nos différentes tâches. Chacunes de ces tâches peut être découpée en sous-tache, comme par exemple: \"nettoyer les toilettes\", \"nettoyer la cuisine\" pour la tâche nettoyer la maison."
   ]
  },
  {
   "cell_type": "markdown",
   "metadata": {},
   "source": [
    "La **programmation procédurale** est intéressante là où nous avons besoin de **procédures** pour **automatiser des tâches**. \n",
    "\n",
    "La **programmation orientée objet** est intéressante là où nous avons plusieurs objets qui interagissent entre eux. Par exemple, un jeux vidéo où les personnages se battent entre eux. Ou l'échange de données entre une base de données et l'écran utilisateur. \n",
    "\n",
    "La **POO** est intéressante là où beaucoup de choses **interagissent entre elles** car un objet est une **abstraction** et il est plus facile de les **réutiliser** et de les **maintenir**. "
   ]
  },
  {
   "cell_type": "markdown",
   "metadata": {},
   "source": [
    "#### Exemple procédural\n",
    "Nous allons comparer ici deux exemples simples de code faisant la même chose mais écrit dans deux paradigmes différents. Les deux exemples illustrent un objet ``light`` (lumière). \n",
    "\n",
    "Le but de la fonction ``change_status(light)``est de changer le status de la lumière ``True/False``.\n",
    "\n",
    "Le but de la fonction ``get_status(light)`` est de retourner le status de la lumière, savoir si elle est allumée ou pas."
   ]
  },
  {
   "cell_type": "code",
   "execution_count": null,
   "metadata": {},
   "outputs": [],
   "source": [
    "def change_status(light):\n",
    "    print('...Change light status...')\n",
    "    return not light\n",
    "\n",
    "def get_status(light):\n",
    "    return 'The light is turned ' + ('ON' if light else 'OFF')"
   ]
  },
  {
   "cell_type": "markdown",
   "metadata": {},
   "source": [
    "Nous déclarons une varialbe ``light`` qui est le status de la lumière, changeons son status et affichons le résultat :"
   ]
  },
  {
   "cell_type": "code",
   "execution_count": null,
   "metadata": {},
   "outputs": [],
   "source": [
    "light = False\n",
    "print(get_status(light))"
   ]
  },
  {
   "cell_type": "markdown",
   "metadata": {},
   "source": [
    "Nous pouvons voir ci-dessus que la lumière est un type primitif et que la fonction ``get_light_status()`` retourne le nouveau status de la lumière.\n",
    "\n",
    "Si nous changeons la lumière avec l'exemple suivant :"
   ]
  },
  {
   "cell_type": "code",
   "execution_count": null,
   "metadata": {},
   "outputs": [],
   "source": [
    "light = change_status(light)\n",
    "print(get_status(light))"
   ]
  },
  {
   "cell_type": "markdown",
   "metadata": {},
   "source": [
    "Nous pouvons voir avec l'exemple ci-dessus que dans la programmation procédurale, nous devons déclarer les variables au début, puis nous devons donner ces variables à des fonctions pour qu'elles modifient l'état et retourne le nouvel état afin d'être  de nouveau assigné aux variables.\n",
    "\n",
    "Dans la programmation procédurale, **les données sont séparées des traitements**."
   ]
  },
  {
   "cell_type": "markdown",
   "metadata": {},
   "source": [
    "#### Exemple objet\n",
    "Nous allons voir maintenant le même code, mais cette fois-ci écrit dans le paradigme objet."
   ]
  },
  {
   "cell_type": "code",
   "execution_count": null,
   "metadata": {},
   "outputs": [],
   "source": [
    "class Light:\n",
    "    def __init__(self, light):\n",
    "        self.light = light\n",
    "\n",
    "    def change_status(self):\n",
    "        print('...Change light status...')\n",
    "        self.light = not self.light\n",
    "    \n",
    "    def __str__(self):\n",
    "        return 'The light is turned ' + ('ON' if self.light else 'OFF')\n",
    "        "
   ]
  },
  {
   "cell_type": "markdown",
   "metadata": {},
   "source": [
    "Puis nous initialisation un objet ``Light``, modifions l'état et affichons les résultats."
   ]
  },
  {
   "cell_type": "code",
   "execution_count": null,
   "metadata": {},
   "outputs": [],
   "source": [
    "# we create a Light object\n",
    "light = Light(False)\n",
    "print(light)\n",
    "\n",
    "# change de status of the light and print the result\n",
    "light.change_status()\n",
    "print(light)"
   ]
  },
  {
   "cell_type": "markdown",
   "metadata": {},
   "source": [
    "Nous avons créé un objet qui est composée de deux choses: \n",
    "\n",
    "* **attributs** (``light``)\n",
    "* **méthodes** (``__init__()``, ``change_status()``,  ``__str__()``).\n",
    "\n",
    "Nous appliquons les changement de status directement dans l'objet. Dans la programmation orientée objet, **les données sont regroupées avec les traitements**. "
   ]
  },
  {
   "cell_type": "markdown",
   "metadata": {},
   "source": [
    "### Les classes\n",
    "En programmation objet, on définit des **classes** et on créé des **objets**. Quand on créé un objet à partir d'une classe, on dit qu'on créé une **instance** d'une classe.\n",
    "\n",
    "Une classe possède des variables qui lui sont propres et que nous appelons des **attributs**. Les valeurs des attributs définissent l'**état** de l'objet. Une classe possède des fonctions que nous appelons **méthodes**.\n",
    "\n",
    "Quand nous définissons une classe, nous créons un nouveau type de données. Ainsi si nous créons la classe ``Light``, le programme possède alors un nouveau type de variable et les variables de type ``Light`` ne pourront avoir que des opérations qui auront été définies par cette classe.\n",
    "\n"
   ]
  },
  {
   "cell_type": "markdown",
   "metadata": {},
   "source": [
    "## Définir une classe simple\n",
    "### Créer une classe\n",
    "En python, le mot clé ``class`` permet de définir une classe. Nous définissons à l'intérieur de la classe les **attributs** et **méthodes** de notre objet. Voici un exemple de classe ``Ennemi``: \n",
    "\n",
    "```python\n",
    "class Ennemi: \n",
    "    pass\n",
    "```\n",
    "\n",
    "Une fois notre classe créé, l'exemple suivant montre comment créer une instance de notre classe Ennemi:"
   ]
  },
  {
   "cell_type": "code",
   "execution_count": null,
   "metadata": {},
   "outputs": [],
   "source": [
    "class Enemy: \n",
    "    pass\n",
    "\n",
    "enemy1 = Enemy()\n",
    "enemy2 = Enemy()"
   ]
  },
  {
   "cell_type": "markdown",
   "metadata": {},
   "source": [
    "L'exemple ci-dessus montre que nous avons créé une classe ``Enemy``. Cette classe ne contient ni propriétés ni méthodes pour l'instant. \n",
    "\n",
    "Nous avons ensuite créé deux variables ``ennemi1`` et ``ennemi2`` qui contiennent les deux une **instance différente** de la classe. Quand nous créons deux instance d'un objet, alors ces deux instances sont différentes.\n",
    "\n",
    "L'exemple suivant montre le type et le contenu des deux instances de la classe ennemi:"
   ]
  },
  {
   "cell_type": "code",
   "execution_count": null,
   "metadata": {},
   "outputs": [],
   "source": [
    "print(type(enemy1))\n",
    "print(enemy1)"
   ]
  },
  {
   "cell_type": "markdown",
   "metadata": {},
   "source": [
    "On peut voir que la variable ``enemy1`` est de type ``Enemy`` et est stockée à une certaine adresse mémoire.\n",
    "\n",
    "En créant une seconde instance de la classe ``Enemy`` on obtient: "
   ]
  },
  {
   "cell_type": "code",
   "execution_count": null,
   "metadata": {},
   "outputs": [],
   "source": [
    "print(type(enemy2))\n",
    "print(enemy2)"
   ]
  },
  {
   "cell_type": "markdown",
   "metadata": {},
   "source": [
    "Nous voyons bien que les variables ``ennemi1`` et ``ennemi2`` sont de même type mais chacune de leurs instance sont à des adresses mémoire différente. "
   ]
  },
  {
   "cell_type": "markdown",
   "metadata": {},
   "source": [
    "### Attributs et constructeurs\n",
    "Nous avons jusqu'à présent créé une classe Ennemi mais elle ne fait rien de particulier.\n",
    "Nous allons ajouter les propriétés qui caractérisent un ennemi:\n",
    "\n",
    "* Leur position (x, y)\n",
    "* Leur points de vie (hp)\n",
    "* Leur rapidité (speed)\n",
    "\n",
    "Ces propriétés sont appelés des **attributs** ou **variables d'instance**.\n",
    "Nous définissons des attributs de la façon suivante:"
   ]
  },
  {
   "cell_type": "code",
   "execution_count": null,
   "metadata": {},
   "outputs": [],
   "source": [
    "class Enemy:\n",
    "    def __init__(self):\n",
    "        self.x  = 0\n",
    "        self.y  = 0\n",
    "        self.hp    = 100\n",
    "        self.speed = 10 \n",
    "        print(\"New enemy created...\")"
   ]
  },
  {
   "cell_type": "markdown",
   "metadata": {},
   "source": [
    "Nous pouvons voir que nous avons défini nos attributs dans la méthode ``__init__()``. C'est une méthode spéciale qui se retrouve dans toutes les classes et que nous appelons un **constructeur**.\n",
    "\n",
    "Le **constructeur** est une méthode qui est **toujours** appelée à l'instanciation d'un objet. Si nous ne définissons pas de constructeur, alors un **constructeur par défaut** sera appelé. \n",
    "\n",
    "Le constructeur est une méthode très importante car il permet de construire les attributs de l'objet et l'initialiser à un état que nous pouvons définir. Sont paramètre ``self`` quand à lui représente **l'instance de l'objet** qui vient d'être créé. \n",
    "\n",
    "Les attributs d'instance sont accessibles en dehors de l'objet. Il suffit de prendre la variable qui contient l'instance de l'objet et on accède à son attribut avec le \".\" (point), par exemple: ``variable.attribut``."
   ]
  },
  {
   "cell_type": "markdown",
   "metadata": {},
   "source": [
    "L'exemple suivant montre comment on accède aux attributs d'instance.\n",
    "Tout d'abord nous créons un objet ``Enemy`` que nous stockons dans la variable ``enemy`` :"
   ]
  },
  {
   "cell_type": "code",
   "execution_count": null,
   "metadata": {},
   "outputs": [],
   "source": [
    "# enemy = ?\n",
    "# print(\"Health Points: \" + str(enemy.?))"
   ]
  },
  {
   "cell_type": "markdown",
   "metadata": {},
   "source": [
    "Nous voyons que en créant l'ennemi, nous avons affiché quelque chose au terminal et que la variable ``enemy`` contient une instance de la classe ``Enemy``.\n",
    "\n",
    "Puis nous modifions le nombre de points de vie de notre ennemi et nous affichons le résultat :"
   ]
  },
  {
   "cell_type": "code",
   "execution_count": null,
   "metadata": {},
   "outputs": [],
   "source": [
    "# The enemy receives 40 damages points\n",
    "# enemy.? = enemy.? - 40\n",
    "# print(\"Health Points: \" + str(enemy.hp))"
   ]
  },
  {
   "cell_type": "markdown",
   "metadata": {},
   "source": [
    "Nous pouvons voir qu'avec cet exemple que nous pouvons accéder à un attribut d'une instance avec le point. Il est aussi possible de modifier la valeur de cet attribut avec la même syntaxe."
   ]
  },
  {
   "cell_type": "markdown",
   "metadata": {},
   "source": [
    "#### Exercice\n",
    "Le but de cet exercice est de créer une classe ``Car`` avec plusieurs attributs.\n",
    "\n",
    "* Ajoutez un attribut ``model`` dans la classe ``Car``\n",
    "* Ajoutez un attribut ``brand`` dans la classe ``Car``\n",
    "* Créez une instance de la classe ``Car``\n",
    "* Affichez le type, l'adresse mémoire, le modèle et la marque "
   ]
  },
  {
   "cell_type": "code",
   "execution_count": null,
   "metadata": {},
   "outputs": [],
   "source": [
    "class Car:\n",
    "    def __init__(self):\n",
    "        pass"
   ]
  },
  {
   "cell_type": "code",
   "execution_count": null,
   "metadata": {},
   "outputs": [],
   "source": [
    "#car1 = Car()\n",
    "\n",
    "#print(type(car1))\n",
    "#print(car1)\n",
    "#print(car1.brand)\n",
    "#print(car1.model)"
   ]
  },
  {
   "cell_type": "markdown",
   "metadata": {},
   "source": [
    "\n",
    "\n",
    "### Arguments dans les constructeurs\n",
    "Nous avons vu jusqu'à présent que le constructeur est une méthode qui est appelée à chaque fois que l'on instancie une classe. \n",
    "\n",
    "Le problème est que dans notre exemple, tous les ennemis auront les mêmes attributs à leur création. Il est possible d'ajouter des **paramètres** à notre constructeur afin de créer des ennemis différents.\n",
    "\n",
    "Nous allons reprendre notre classe ``Enemy`` et ajouter des paramètres dans le **constructeur**. Ces paramètres vont servir à initialiser les **attributs** :"
   ]
  },
  {
   "cell_type": "code",
   "execution_count": null,
   "metadata": {},
   "outputs": [],
   "source": [
    "class Enemy:\n",
    "    def __init__(self, x, y, hp, speed):\n",
    "        self.x  = x\n",
    "        self.y  = y\n",
    "        self.hp    = hp\n",
    "        self.speed = speed\n",
    "        print('New enemy created...')"
   ]
  },
  {
   "cell_type": "markdown",
   "metadata": {},
   "source": [
    "Une fois la classe créé avec des paramètres dans le constructeur, nous pouvons créer un objet et afficher les résultats :"
   ]
  },
  {
   "cell_type": "code",
   "execution_count": null,
   "metadata": {},
   "outputs": [],
   "source": [
    "# enemy = Enemy(10, 10, 100, 4)\n",
    "\n",
    "# print(f'Enemy at ({enemy.?}, {enemy.?}), hp={enemy.?}')"
   ]
  },
  {
   "cell_type": "markdown",
   "metadata": {},
   "source": [
    "Nous pouvons voir que dans notre exemple, le constructeur de la classe ``Enemy`` prend plusieurs arguments en plus de ``self``. Nous pouvons renseigner lors de l'instanciation de la classe ``Enemy`` les arguments voulus pour définir son état initial. "
   ]
  },
  {
   "cell_type": "markdown",
   "metadata": {},
   "source": [
    "#### Exercice\n",
    "Reprenez votre classe ``Car`` que vous avez créé. Elle doit maintenant avoir au moins deux attributs.\n",
    "\n",
    "* Modifiez le constructeur de la classe ``Car`` pour initialiser ses attributs dans le constructeur\n",
    "* Créez deux instances de la classe ``Car`` avec une marque différentes\n",
    "* Pour chaque instance affichez son type, son adresse et ses attributs"
   ]
  },
  {
   "cell_type": "code",
   "execution_count": null,
   "metadata": {},
   "outputs": [],
   "source": [
    "class Car:\n",
    "    def __init__(self):\n",
    "        pass"
   ]
  },
  {
   "cell_type": "code",
   "execution_count": null,
   "metadata": {},
   "outputs": [],
   "source": [
    "#car1 = ?\n",
    "#print(car1)\n",
    "#print(car1.brand)"
   ]
  },
  {
   "cell_type": "code",
   "execution_count": null,
   "metadata": {},
   "outputs": [],
   "source": [
    "#car2 = ?\n",
    "#print(car2)\n",
    "#print(car2.brand)"
   ]
  },
  {
   "cell_type": "markdown",
   "metadata": {},
   "source": [
    "### Les méthodes\n",
    "Nous avons vus que les classes sont composés de deux choses: les **attributs** et les **méthodes**. Les attributs définissent l'état d'un objet et les méthodes définissent son **comportement**.\n",
    "\n",
    "Les **comportements** représentent ce que les objets savent faire. Dans le cas de l'ennemi c'est par exemple se déplacer ou attaquer. Les méthodes ont toujours comme argument la variable ``self`` qui représente l'instance courante de la classe. \n",
    "\n",
    "L'exemple suivant montre la classe enemy enrichie avec des comportements:"
   ]
  },
  {
   "cell_type": "code",
   "execution_count": null,
   "metadata": {},
   "outputs": [],
   "source": [
    "class Enemy: \n",
    "    def __init__(self, x, y, hp, speed):\n",
    "        self.x  = x\n",
    "        self.y  = y\n",
    "        self.hp    = hp\n",
    "        self.speed = speed\n",
    "        print(\"New enemy created...\")\n",
    "    \n",
    "    def move_to(self, x, y):\n",
    "        self.x = x\n",
    "        self.x = y\n",
    "        print(f'Enemy moved to position ({self.x}, {self.y})')\n",
    "    \n",
    "    def is_alive(self):\n",
    "        return self.hp > 0"
   ]
  },
  {
   "cell_type": "markdown",
   "metadata": {},
   "source": [
    "Nous pouvons voir ici que les méthodes ont toujours le mot clé ``self`` permettant de faire référence à l'instance actuelle de l'objet. \n",
    "\n",
    "SI nous créons une instance de notre classe ``Enemy`` :"
   ]
  },
  {
   "cell_type": "code",
   "execution_count": null,
   "metadata": {},
   "outputs": [],
   "source": [
    "enemy = Enemy(0, 0, 100, 4)"
   ]
  },
  {
   "cell_type": "markdown",
   "metadata": {},
   "source": [
    "Nous avons maintenant un ennemi et nous pouvons maintenant directement appliquer des méthodes sur notre ennemi afin de modifier son état :"
   ]
  },
  {
   "cell_type": "code",
   "execution_count": null,
   "metadata": {},
   "outputs": [],
   "source": [
    "#enemy.move_to(?, ?)\n",
    "#enemy.hp = enemy.hp - 50\n",
    "#print('Alive:', enemy.is_alive())"
   ]
  },
  {
   "cell_type": "markdown",
   "metadata": {},
   "source": [
    "Dans l'exemple ci-dessus, nous avons défini deux comportements ou méthodes pour la classe ``Enemy``. \n",
    "\n",
    "La méthode ``move_to`` permet de déplacer l'ennemi. Une méthode de classe doit toujours avoit la variable ``self`` dans ses arguments. \n",
    "\n",
    "Puis, nous pouvons ajouter les paramètres que nous voulons, dans notre cas les nouvelles coordonnées de l'ennemi. Pour modifier les variables d'instance, il est nécessaire de passer par le mot clé self tel que ``self.x = nouveau_x``. \n",
    "\n",
    "La méthode ``is_alive`` permet de retourner une valeur logique qui décrit l'état de l'ennemi. Elle ne prend aucun argument à part ``self``."
   ]
  },
  {
   "cell_type": "markdown",
   "metadata": {},
   "source": [
    "#### Exercice\n",
    "Reprenez votre classe ``Car``.\n",
    "\n",
    "* Ajoutez un attribut de kilométrage ``km`` qui est initialisé par défaut à 0\n",
    "* Ajoutez la méthode ``increment()`` qui permet d'incrémenter le kilométrage\n",
    "* Ajoutez la méthode ``status()`` qui permet d'afficher le status de la voiture\n",
    "* Créez un objet voiture, incrémentez le compteur et affichez le résultat"
   ]
  },
  {
   "cell_type": "code",
   "execution_count": null,
   "metadata": {},
   "outputs": [],
   "source": [
    "class Car:\n",
    "    def __init__(self):\n",
    "        pass\n",
    "    \n",
    "    def increment(self):\n",
    "        pass\n",
    "    \n",
    "    def status(self):\n",
    "        return f'The car {self.brand} {self.model} has {self.km} km'\n",
    "\n",
    "#car = ?\n",
    "#car.increment()\n",
    "#car.increment()\n",
    "#car.increment()\n",
    "#print(car.status())"
   ]
  },
  {
   "cell_type": "markdown",
   "metadata": {},
   "source": [
    "### La méthode spéciale ``__str__()``\n",
    "Par défaut, quand nous affichons l'instance d'une classe avec la fonction ``print()`` celle-ci affiche une forme générique contenant le nom de la classe et une adresse mémoire.\n",
    "\n",
    "Si une méthode spéciale ``__str__()`` est défini pour une classe, celle-ci est appelée par la fonction ``print()``. \n",
    "\n",
    "L'avantage de cette méthode est qu'elle fournit un moyen souple pour décrire l'état d'un objet. Ainsi le code suivant modifie la classe ``Enemy`` afin d'implémenter la méthode ``__str__()`` :"
   ]
  },
  {
   "cell_type": "code",
   "execution_count": null,
   "metadata": {},
   "outputs": [],
   "source": [
    "class Enemy: \n",
    "    def __init__(self, x, y, hp):\n",
    "        self.x  = x\n",
    "        self.y  = y\n",
    "        self.hp    = hp\n",
    "        print(\"New enemy created...\")\n",
    "    \n",
    "    def __str__(self):\n",
    "        status = 'ALIVE' if self.hp > 0 else 'DEAD'\n",
    "        return f'The enemy is {status} at position ({self.x}, {self.y})' "
   ]
  },
  {
   "cell_type": "markdown",
   "metadata": {},
   "source": [
    "Une fois la méthode spéciale implémentée dans la classe ``Enemy``, nous pouvons alors créer une instance d'un ennemi et afficher directement le retour de la méthode spéciale sans avoir le besoin d'appeler une méthode précise :"
   ]
  },
  {
   "cell_type": "code",
   "execution_count": null,
   "metadata": {},
   "outputs": [],
   "source": [
    "#enemy = ?\n",
    "#print(?)"
   ]
  },
  {
   "cell_type": "markdown",
   "metadata": {},
   "source": [
    "Si nous définissons la méthode ``__str__()`` pour une classe, et si nous passons une instance de cette classe à ``print()`` celle-ci va va imprimer la chaîne obtenu par la méthode ``__str__()``."
   ]
  },
  {
   "cell_type": "markdown",
   "metadata": {},
   "source": [
    "#### Exercice\n",
    "Reprennez votre classe **Car** de l'exercice précédent.\n",
    "Remplacez la méthode qui affiche le status de la voiture avec la méthode spéciale ``__str__()``."
   ]
  },
  {
   "cell_type": "code",
   "execution_count": null,
   "metadata": {},
   "outputs": [],
   "source": [
    "class Car:\n",
    "    def __init__(self, brand, model):\n",
    "        self.brand = brand\n",
    "        self.model = model\n",
    "        self.km    = 0\n",
    "    \n",
    "    def increment(self):\n",
    "        self.km += 1\n",
    "    \n",
    "    def status(self):\n",
    "        return f'The car {self.brand} {self.model} has {self.km} km'"
   ]
  },
  {
   "cell_type": "code",
   "execution_count": null,
   "metadata": {},
   "outputs": [],
   "source": [
    "car = Car(\"Mercedes\", \"Class A\")\n",
    "car.increment()\n",
    "car.increment()\n",
    "car.increment()\n",
    "#print(car)"
   ]
  },
  {
   "cell_type": "markdown",
   "metadata": {},
   "source": [
    "## Objets et référence\n",
    "### Introduction\n",
    "Un concept primordial à comprendre dans le monde objet est celui de **référence**. Quand nous créons une instance d'un objet et que nous l'assignons à une variable, cette dernière ne contient pas l'objet en lui même mais une **référence vers l'adresse mémoire** de cet objet.\n",
    "\n",
    "L'exemple suivant illustre le concept de référence.\n",
    "\n",
    "Reprenons notre classe ``Car`` simplifiée qui ne contient que l'attribut ``brand``."
   ]
  },
  {
   "cell_type": "code",
   "execution_count": 2,
   "metadata": {},
   "outputs": [],
   "source": [
    "class Car:\n",
    "    def __init__(self, brand, color):\n",
    "        self.brand  = brand\n",
    "        self.color = color"
   ]
  },
  {
   "cell_type": "code",
   "execution_count": 3,
   "metadata": {},
   "outputs": [
    {
     "data": {
      "text/plain": [
       "type"
      ]
     },
     "execution_count": 3,
     "metadata": {},
     "output_type": "execute_result"
    }
   ],
   "source": [
    "type(Car)"
   ]
  },
  {
   "cell_type": "markdown",
   "metadata": {},
   "source": [
    "Commençons avec une variable qui contient une valeur simple (int, float, bool). Nous créons une deuxième variable que nous associons avec la première."
   ]
  },
  {
   "cell_type": "code",
   "execution_count": 4,
   "metadata": {},
   "outputs": [
    {
     "name": "stdout",
     "output_type": "stream",
     "text": [
      "100 100\n"
     ]
    }
   ],
   "source": [
    "var1 = 100\n",
    "var2 = var1\n",
    "print(var1, var2)"
   ]
  },
  {
   "cell_type": "markdown",
   "metadata": {},
   "source": [
    "Que se passe-t-il si nous changeons la première variable?"
   ]
  },
  {
   "cell_type": "code",
   "execution_count": 5,
   "metadata": {},
   "outputs": [
    {
     "name": "stdout",
     "output_type": "stream",
     "text": [
      "99 100\n"
     ]
    }
   ],
   "source": [
    "var1 = 99\n",
    "print(var1, var2)"
   ]
  },
  {
   "cell_type": "markdown",
   "metadata": {},
   "source": [
    "Dans le cas des types primitifs (int, float, bool), la variable contient directement la valeur. La deuxième variable n'est pas touché par le changement de la première.\n",
    "\n",
    "Nous allons maintenant faire la même chose avec un objet complexe, avec deux variables qui contiennent des instances de ``Car``."
   ]
  },
  {
   "cell_type": "code",
   "execution_count": 6,
   "metadata": {},
   "outputs": [],
   "source": [
    "car1 = Car('VW Polo', 'red')\n",
    "car2 = car1"
   ]
  },
  {
   "cell_type": "markdown",
   "metadata": {},
   "source": [
    "Si nous affichons le contenu de ces deux variables nous obtenons leur classe et leur adresse en mémoire."
   ]
  },
  {
   "cell_type": "code",
   "execution_count": 7,
   "metadata": {},
   "outputs": [
    {
     "name": "stdout",
     "output_type": "stream",
     "text": [
      "<__main__.Car object at 0x1040ddcd0>\n",
      "<__main__.Car object at 0x1040ddcd0>\n"
     ]
    }
   ],
   "source": [
    "print(car1)\n",
    "print(car2)"
   ]
  },
  {
   "cell_type": "markdown",
   "metadata": {},
   "source": [
    "Nous avons le même type de résultat, et nous notons que les adresses sont les mêmes. Les deux variables pointent vers le même objets!\n",
    "\n",
    "Imprimons les attributs."
   ]
  },
  {
   "cell_type": "code",
   "execution_count": 8,
   "metadata": {},
   "outputs": [
    {
     "name": "stdout",
     "output_type": "stream",
     "text": [
      "VW Polo red\n",
      "VW Polo red\n"
     ]
    }
   ],
   "source": [
    "print(car1.brand, car1.color)\n",
    "print(car2.brand, car2.color)"
   ]
  },
  {
   "cell_type": "markdown",
   "metadata": {},
   "source": [
    "La variable ``car2`` se pointe a la même adresse mémoire que la variable ``car1``. Cela est du au fait que lors d'une assignation d'une instances de classe, nous copions cette adresse de mémoire.\n",
    "Les variables ``car1`` et ``car2`` font référence au même objet!\n",
    "\n",
    "Ainsi, si nous modifions un attribut de ``car1`` il sera aussi changé pour ``car2``:"
   ]
  },
  {
   "cell_type": "code",
   "execution_count": 9,
   "metadata": {},
   "outputs": [
    {
     "name": "stdout",
     "output_type": "stream",
     "text": [
      "Toyota red\n",
      "Toyota red\n"
     ]
    }
   ],
   "source": [
    "car1.brand = 'Toyota'\n",
    "print(car1.brand, car1.color)\n",
    "print(car2.brand, car2.color)"
   ]
  },
  {
   "cell_type": "markdown",
   "metadata": {},
   "source": [
    "Il faut faire très attention car les variables ``car1`` et ``car2`` ne sont pas clonées ! Elles sont juste une référence vers la même instance de la classe ``Car``."
   ]
  },
  {
   "cell_type": "code",
   "execution_count": 14,
   "metadata": {},
   "outputs": [],
   "source": [
    "car3 = Car('Toyota', 'blue')"
   ]
  },
  {
   "cell_type": "code",
   "execution_count": 15,
   "metadata": {},
   "outputs": [
    {
     "name": "stdout",
     "output_type": "stream",
     "text": [
      "<__main__.Car object at 0x1040ddcd0>\n",
      "<__main__.Car object at 0x1040ddcd0>\n",
      "<__main__.Car object at 0x104a17210>\n"
     ]
    }
   ],
   "source": [
    "print(car1)\n",
    "print(car2)\n",
    "print(car3)"
   ]
  },
  {
   "cell_type": "code",
   "execution_count": 16,
   "metadata": {},
   "outputs": [
    {
     "name": "stdout",
     "output_type": "stream",
     "text": [
      "Toyota blue\n"
     ]
    }
   ],
   "source": [
    "print(car3.brand, car3.color)"
   ]
  },
  {
   "cell_type": "markdown",
   "metadata": {},
   "source": [
    "### Cloner une instance de classe\n",
    "Il n'y a pas de méthode automatique pour créer une instance de classe qui soit le clone d'une autre instance de classe. Le **clonage** de classe est un processus manuel qui se fait grâce à une méthode. \n",
    "\n",
    "Il est nécessaire d'implémenter une méthode ``clone()`` permettant de cloner un objet. Cette méthode va retourner une nouvelle instance de la classe avec les mêmes attributs.\n",
    "\n",
    "L'exemple suivant illustre le clonage d'une classe:"
   ]
  },
  {
   "cell_type": "code",
   "execution_count": 20,
   "metadata": {},
   "outputs": [],
   "source": [
    "class Car:\n",
    "    def __init__(self, name, color):\n",
    "        self.name  = name\n",
    "        self.color = color\n",
    "    \n",
    "    def clone(self):\n",
    "        return Car(self.name, self.color)"
   ]
  },
  {
   "cell_type": "markdown",
   "metadata": {},
   "source": [
    "Puis nous créons une instance de la classe ``Car`` :"
   ]
  },
  {
   "cell_type": "code",
   "execution_count": 21,
   "metadata": {},
   "outputs": [
    {
     "name": "stdout",
     "output_type": "stream",
     "text": [
      "VW Polo white\n",
      "<__main__.Car object at 0x104a22cd0>\n"
     ]
    }
   ],
   "source": [
    "car1 = Car('VW Polo', 'white')\n",
    "print(car1.name, car1.color)\n",
    "print(car1)"
   ]
  },
  {
   "cell_type": "markdown",
   "metadata": {},
   "source": [
    "Puis nous créons un clone de la classe ``car1`` que nous stockons dans la variable ``car2`` :"
   ]
  },
  {
   "cell_type": "code",
   "execution_count": 22,
   "metadata": {},
   "outputs": [
    {
     "name": "stdout",
     "output_type": "stream",
     "text": [
      "VW Polo white\n",
      "<__main__.Car object at 0x104a22c50>\n"
     ]
    }
   ],
   "source": [
    "car2 = car1.clone()\n",
    "print(car1.name, car1.color)\n",
    "print(car2)"
   ]
  },
  {
   "cell_type": "code",
   "execution_count": 23,
   "metadata": {},
   "outputs": [
    {
     "name": "stdout",
     "output_type": "stream",
     "text": [
      "VW Polo green\n",
      "fiat white\n"
     ]
    }
   ],
   "source": [
    "car2.name = 'fiat'\n",
    "car1.color = 'green'\n",
    "print(car1.name, car1.color)\n",
    "print(car2.name, car2.color)"
   ]
  },
  {
   "cell_type": "markdown",
   "metadata": {},
   "source": [
    "#### Exercice \n",
    "Reprenez votre classe **Car** au chapitre précédent.\n",
    "\n",
    "* Implémentez la méthode ``clone()``.\n",
    "* Créez une instance de la classe ``Car`` que vous stockez dans la variable ``car1`` \n",
    "* Créez un clone de la variable ``car1`` que vous mettez dans la variable ``car2``\n",
    "* Modifiez l'état de la variable ``car2`` et affichez les différences"
   ]
  },
  {
   "cell_type": "code",
   "execution_count": 29,
   "metadata": {},
   "outputs": [],
   "source": [
    "class Car:\n",
    "    def __init__(self, brand, model):\n",
    "        self.brand = brand\n",
    "        self.model = model\n",
    "        self.km = 0\n",
    "        \n",
    "    def increment(self):\n",
    "        self.km += 1\n",
    "    \n",
    "    def __str__(self):\n",
    "        return f'{self.brand} model {self.model} that has {self.km} km'\n",
    "    \n",
    "    def clone(self):\n",
    "        return Car(self.brand, self.model)"
   ]
  },
  {
   "cell_type": "code",
   "execution_count": 30,
   "metadata": {},
   "outputs": [],
   "source": [
    "car1 = Car('Mercedes', 'AMG')"
   ]
  },
  {
   "cell_type": "code",
   "execution_count": 32,
   "metadata": {},
   "outputs": [
    {
     "name": "stdout",
     "output_type": "stream",
     "text": [
      "2\n",
      "Mercedes model AMG that has 2 km\n",
      "Mercedes model AMG that has 0 km\n"
     ]
    }
   ],
   "source": [
    "car1.increment()\n",
    "print(car1.km)\n",
    "car2 = car1.clone()\n",
    "\n",
    "print(car1)\n",
    "print(car2)"
   ]
  },
  {
   "cell_type": "markdown",
   "metadata": {},
   "source": [
    "## Variables de classe\n",
    "Nous avons vu jusqu'à présent que des classes peuvent avoir des attributs. Toutefois ces attributs sont propres à chaque instance de classe. L'exemple suivant l'illustre:"
   ]
  },
  {
   "cell_type": "code",
   "execution_count": 34,
   "metadata": {},
   "outputs": [],
   "source": [
    "class Animal:\n",
    "    def __init__(self, animal_type, name):\n",
    "        self.animal_class = 'mammal'\n",
    "        self.animal_type = animal_type\n",
    "        self.name = name\n",
    "        \n",
    "    def __str__(self):\n",
    "        return f'{self.animal_class} of type {self.animal_type} named {self.name}'"
   ]
  },
  {
   "cell_type": "markdown",
   "metadata": {},
   "source": [
    "Une fois la class créé nous pouvons créer deux animaux, et pour chacun de ces animaux nous pouvons afficher leur contenu: "
   ]
  },
  {
   "cell_type": "code",
   "execution_count": 37,
   "metadata": {},
   "outputs": [
    {
     "name": "stdout",
     "output_type": "stream",
     "text": [
      "mammal of type cat named meow\n",
      "mammal of type dog named Antony\n"
     ]
    }
   ],
   "source": [
    "cat = Animal('cat', 'meow')\n",
    "dog = Animal('dog', 'Antony')\n",
    "\n",
    "print(cat)\n",
    "print(dog)"
   ]
  },
  {
   "cell_type": "markdown",
   "metadata": {},
   "source": [
    "Nous voyons ici que en fait l'attribut ``animal_class`` n'est pas propre à chaque instance de classe mais est partagée par toutes les classes. \n",
    "\n",
    "Nous pouvons créer une variable de classe commune à toutes les instances de classes et elles sont appelées des ``variables de classe``. Elles se définissent en dehors des constructeurs directement dans la classe :"
   ]
  },
  {
   "cell_type": "code",
   "execution_count": null,
   "metadata": {},
   "outputs": [],
   "source": [
    "class Animal:\n",
    "    animal_class = \"mammal\"\n",
    "    \n",
    "    def __init__(self, animal_type, name):\n",
    "        self.animal_type = animal_type\n",
    "        self.name = name\n",
    "        \n",
    "    def __str__(self):\n",
    "        return f'{self.animal_class} of type {self.animal_type} named {self.name}'"
   ]
  },
  {
   "cell_type": "markdown",
   "metadata": {},
   "source": [
    "Une fois que nous avons déplacé l'attribut ``animal_class`` dans la classe nous pouvons maintenant recréer deux animaux et les afficher :"
   ]
  },
  {
   "cell_type": "code",
   "execution_count": 38,
   "metadata": {},
   "outputs": [
    {
     "name": "stdout",
     "output_type": "stream",
     "text": [
      "mammal of type Cat named meow\n",
      "mammal of type Dog named Antonio\n"
     ]
    }
   ],
   "source": [
    "cat = Animal('Cat', 'meow')\n",
    "dog = Animal('Dog', 'Antonio')\n",
    "\n",
    "print(cat)\n",
    "print(dog)"
   ]
  },
  {
   "cell_type": "markdown",
   "metadata": {},
   "source": [
    "Nous voyons que les animaux ne changent pas.\n",
    "\n",
    "Si nous modfions la variable de classe alors nous verrons que toutes les instance de la classe ``Animal`` se verront voir leur attribut de classe ``animal_class`` modifiée :"
   ]
  },
  {
   "cell_type": "code",
   "execution_count": null,
   "metadata": {},
   "outputs": [],
   "source": [
    "Animal.animal_class = \"Eukaryote\"\n",
    "\n",
    "print(cat)\n",
    "print(dog)"
   ]
  },
  {
   "cell_type": "markdown",
   "metadata": {},
   "source": [
    "L'exemple ci-dessus montre comment créer une ``variable de classe``. Il est possible de modifier la valeur d'une variable de classe directement avec la syntaxe ``Classe.VariableDeClasse`` et ainsi leur valeur sera modifiée pour toutes les instances de classe."
   ]
  },
  {
   "cell_type": "markdown",
   "metadata": {},
   "source": [
    "#### Exercice\n",
    "Vous décidez maintenant que vous voulez faire du vélo. \n",
    "\n",
    "* Créez une nouvelle classe ``Bike`` \n",
    "* Cette classe doit voir comme attribut ``model``\n",
    "* Cette classe doit avoir comme attribut de classe ``wheels`` qui définit le nombre de roues\n",
    "* Affichez le contenu dans le terminal "
   ]
  },
  {
   "cell_type": "code",
   "execution_count": 39,
   "metadata": {},
   "outputs": [
    {
     "name": "stdout",
     "output_type": "stream",
     "text": [
      "This Peugeot has 2 wheels\n"
     ]
    }
   ],
   "source": [
    "class Bike:\n",
    "    wheels = 2\n",
    "    \n",
    "    def __init__(self, model):\n",
    "        self.model = model\n",
    "    \n",
    "    def __str__(self):\n",
    "        return f'This {self.model} has {self.wheels} wheels'\n",
    "\n",
    "bike1 = Bike(\"Peugeot\")\n",
    "print(bike1)"
   ]
  },
  {
   "cell_type": "code",
   "execution_count": 40,
   "metadata": {},
   "outputs": [
    {
     "name": "stdout",
     "output_type": "stream",
     "text": [
      "This scott has 2 wheels\n"
     ]
    }
   ],
   "source": [
    "bike2 = Bike('scott')\n",
    "print(bike2)"
   ]
  },
  {
   "cell_type": "code",
   "execution_count": 42,
   "metadata": {},
   "outputs": [
    {
     "name": "stdout",
     "output_type": "stream",
     "text": [
      "This Peugeot has 3 wheels\n",
      "This scott has 3 wheels\n"
     ]
    }
   ],
   "source": [
    "Bike.wheels = 3 \n",
    "print(bike1)\n",
    "print(bike2)"
   ]
  },
  {
   "cell_type": "markdown",
   "metadata": {},
   "source": [
    "## Méthodes de classe et méthodes statiques\n",
    "Il arrive que l'on veuille mettre dans une classe une méthode simple qui ne fait référence ni à une variable de classe, ni à une variable d'instance. \n",
    "\n",
    "Ces méthodes sont appelées **méthodes statiques** et ne font appel qu'aux argumets qu'on lui donne. \n",
    "Les méthodes statiques sont annotées avec le **décorateur** ``@staticmethod`` et ne possède pas le premier argument ``self``.\n",
    "\n",
    "Il peut aussi arriver que nous ayons besoin de méthodes qui ne font pas référence à des variables d'instances mais uniquement à des variables de classe. \n",
    "Ces méthodes sont appelées méthode de classe et utilisent le **décorateur** ``@classmethod`` et ont comme premier argument ``cls`` et non ``self``."
   ]
  },
  {
   "cell_type": "markdown",
   "metadata": {},
   "source": [
    "L'exemple suivant illustre deux exemples de méthode statique et de classe:"
   ]
  },
  {
   "cell_type": "code",
   "execution_count": 43,
   "metadata": {},
   "outputs": [
    {
     "name": "stdout",
     "output_type": "stream",
     "text": [
      "2 power 8 is  256\n",
      "A sphere of radius 4.5 has a volume of 381.51\n"
     ]
    }
   ],
   "source": [
    "class Math:\n",
    "    pi = 3.14\n",
    "    \n",
    "    @staticmethod\n",
    "    def power(number, exp):\n",
    "        n = 1\n",
    "        for i in range(exp):\n",
    "            n *= number \n",
    "        return n\n",
    "    \n",
    "    @classmethod\n",
    "    def sphere_volume(cls, radius):\n",
    "        return (4 * cls.pi * Math.power(radius, 3)) / 3\n",
    "    \n",
    "print(f'2 power 8 is  {Math.power(2, 8)}')\n",
    "print(f'A sphere of radius 4.5 has a volume of {Math.sphere_volume(4.5)}')"
   ]
  },
  {
   "cell_type": "markdown",
   "metadata": {},
   "source": [
    "L'exemple ci-dessus montre l'utilisation de **méthodes statiques** et de **méthodes de classe**. \n",
    "\n",
    "La méthode ``power(number, exp)`` ne fait appel qu'aux paramètres qu'on lui donne. \n",
    "\n",
    "La méthode ``sphere_volume(cls, radius)`` fait appel aux paramètres donnés ainsi qu'aux variables de classe. "
   ]
  },
  {
   "cell_type": "markdown",
   "metadata": {},
   "source": [
    "#### Exercice\n",
    "Reprennez la class ``Math`` de l'exemple.\n",
    "\n",
    "* Créez une méthode ``palindrome()`` qui prend une chaine de caractère comme argument. \n",
    "* Elle ``True`` si c'est un pallindrome et ``False`` si ce n'en est pas un. \n",
    "* Par exemple **sugus** et **elle** sont des palindromes mais **baobab** pas. \n",
    "\n",
    "*Indice: La fonction ``len()`` permet de connaître la longueur d'une chaine de caractères.*"
   ]
  },
  {
   "cell_type": "code",
   "execution_count": 44,
   "metadata": {},
   "outputs": [
    {
     "name": "stdout",
     "output_type": "stream",
     "text": [
      "None\n",
      "None\n"
     ]
    }
   ],
   "source": [
    "class Math:\n",
    "    \n",
    "    @staticmethod\n",
    "    def palindrome(chaine):\n",
    "        start = 0\n",
    "    \n",
    "print(Math.palindrome(\"sugus\"))\n",
    "print(Math.palindrome(\"baobab\"))"
   ]
  },
  {
   "cell_type": "code",
   "execution_count": 49,
   "metadata": {},
   "outputs": [
    {
     "name": "stdout",
     "output_type": "stream",
     "text": [
      "t 0\n",
      "o 0\n",
      "n 0\n"
     ]
    }
   ],
   "source": [
    "mot = 'ton'\n",
    "i = 0\n",
    "\n",
    "for c in mot: \n",
    "    print(c,i)"
   ]
  },
  {
   "cell_type": "markdown",
   "metadata": {},
   "source": [
    "## Espaces de noms\n",
    "Nous allons aborder ici la notion de **visibilité des variables**. \n",
    "\n",
    "Une variable possède un espace de nom et a une certaine visibilité. Ainsi quand on déclare des variables dans une fonction par exemples, la fonction va d'abord chercher les variables dans son espace local, et si elle ne la trouve pas, elle va monter d'un niveau pour essayer de trouver la variable."
   ]
  },
  {
   "cell_type": "code",
   "execution_count": null,
   "metadata": {},
   "outputs": [],
   "source": [
    "name = 'global name'\n",
    "\n",
    "class NameSpace:\n",
    "    name = 'class name'\n",
    "    \n",
    "    def __init__(self):\n",
    "        self.name = 'instance name'\n",
    "    \n",
    "    def funct1(self):\n",
    "        return self.name\n",
    "        \n",
    "    def funct2(self):\n",
    "        name = 'local function name'\n",
    "        return name\n",
    "    \n",
    "    def funct3(self):\n",
    "        return name\n",
    "    \n",
    "    @staticmethod\n",
    "    def funct4():\n",
    "        return name\n",
    "    \n",
    "    @classmethod\n",
    "    def funct5(cls):\n",
    "        return name\n",
    "    \n",
    "    @classmethod\n",
    "    def funct6(cls):\n",
    "        return cls.name\n",
    "\n",
    "test = NameSpace()\n",
    "\n",
    "print(1, name) # La variable name est globale et visible par tout le monde\n",
    "print(2, NameSpace.name) # La variable de classe est locale à la classe. \n",
    "print(3, test.funct1())\n",
    "print(4, test.funct2())\n",
    "print(5, test.funct3())\n",
    "print(6, test.funct4())\n",
    "print(7, test.funct5())\n",
    "print(8, test.funct6())"
   ]
  },
  {
   "cell_type": "markdown",
   "metadata": {},
   "source": [
    "L'exemple ci-dessus illustre les visibilités suivantes:\n",
    "1. La variable name est **globale**. Elle est visible par tout le monde\n",
    "2. La variable de classe est locale à la classe. Toutefois, elle reste visible pour tout le monde si on fait appel à elle **excplicitement**\n",
    "3. La variable d'instance est visible pour toutes les fonctions qui font parti de la même instance\n",
    "4. La variable est **locale** à la fonction. Seulement cette dernière peut la voir\n",
    "5. La méthode funct3 va chercher la variable localement mais ne la trouve pas. Elle va la trouver au niveau **global**\n",
    "6. La méthode funct4 va chercher la variable localement mais ne la trouve pas. Elle va la trouver au niveau **global**\n",
    "7. La méthode funct5 va chercher la variable localement mais ne la trouve pas. Elle va la trouver au niveau **global**\n",
    "8. La méthode funct6 va chercher la variable localement mais ne la trouve pas. On spécifie la variable de classe explicitement"
   ]
  },
  {
   "cell_type": "markdown",
   "metadata": {},
   "source": [
    "## Encapsulation\n",
    "Les objets sont composés d'attributs et de méthodes. Les attributs sont accessible directement par les utilisateurs de la classe.\n",
    "Ainsi pour la classe:\n",
    "```python\n",
    "class A:\n",
    "    def __init__(self):\n",
    "        self.x = 0\n",
    "```\n",
    "N'importe quel utilisateur de la classe pourra accéder à l'attribut ``x`` directement et modifier son état.\n",
    "\n",
    "Un objet ne devrait jamais exposer directement ses attributs mais devrait obliger l'utilisateur à passer par des méthodes pour modifier son état. C'est ce qu'on appelle le **principe d'encapsulation**.\n",
    "\n",
    "Prenons comme exemple la classe suivante:"
   ]
  },
  {
   "cell_type": "code",
   "execution_count": null,
   "metadata": {},
   "outputs": [],
   "source": [
    "class StopWatch:\n",
    "    def __init__(self, limit):\n",
    "        self.seconds = 0\n",
    "        self.limit = limit\n",
    "        print(f'The stopwatch was initialized at 0 second and max {limit} seconds')\n",
    "        \n",
    "    def tic(self):\n",
    "        if self.seconds == self.limit:\n",
    "            self.seconds = 0\n",
    "        else:\n",
    "            self.seconds += 1\n",
    "            \n",
    "        print(f'Current time: {self.seconds}')"
   ]
  },
  {
   "cell_type": "markdown",
   "metadata": {},
   "source": [
    "Nous pouvons maintenant créer une instance de cette classe que nous allons stocker dans la variable ``sw``.\n",
    "Puis nous allons appeler deux fois la méthode ``tic`` :"
   ]
  },
  {
   "cell_type": "code",
   "execution_count": null,
   "metadata": {},
   "outputs": [],
   "source": [
    "sw = StopWatch(60)\n",
    "sw.tic()\n",
    "sw.tic()"
   ]
  },
  {
   "cell_type": "markdown",
   "metadata": {},
   "source": [
    "Nous pouvons voir dans l'exemple ci-dessus que nous avons bien un chronomètre avec un temps maximum de 60 secondes et que si nous l'incrémentons deux fois, nous avons bien deux secondes. \n",
    "\n",
    "Nous allons maintenant modifier les secondes avec des valeurs non autorisées :"
   ]
  },
  {
   "cell_type": "code",
   "execution_count": null,
   "metadata": {},
   "outputs": [],
   "source": [
    "sw.seconds = 61\n",
    "sw.tic()"
   ]
  },
  {
   "cell_type": "markdown",
   "metadata": {},
   "source": [
    "Nous pouvons maintenant voir que notre chronomètre ne fonctionne plus correctement car nous avons dépassé la valeur de 60 secondes fixée.\n",
    "\n",
    "L'exemple ci-dessus montre pourquoi il est souvent dangereux d'autoriser la modification directe d'un attribut d'instance. Dans ce cas, le chronomètre revient automatiquement à zéro quand il arrive à 59s. Si un utilisateur change la valeur du chrono à 60s alors il ne va plus fonctionner comme prévu. \n",
    "\n",
    "Il est nécessaire d'interdire la modification directe d'attributs et **d'encapsuler** ces derniers.\n",
    "\n",
    "Pour empêcher la modification de variables depuis l'extérieur, il est possible de rendre des variable **privées** en mettant un ``__`` avant le nom de la variable.\n",
    "\n",
    "Ainsi nous empêchons les modifications extérieures. \n",
    "\n",
    "Le principe **d'encapsulation** impose la modification des variable par des méthodes qu'on appelle des **setteurs**. La classe suivante montre notre class ``StopWatch`` qui possède des attributs **privés** et donc non modifiable de l'extérieur. \n",
    "\n",
    "Nous avons la méthode ``set_time(new_time)`` qui permet de définir la valeur et la méthode ``get_time()`` qui permet de récupérer la valeur :"
   ]
  },
  {
   "cell_type": "code",
   "execution_count": null,
   "metadata": {},
   "outputs": [],
   "source": [
    "class StopWatch:\n",
    "    def __init__(self, limit):\n",
    "        self.__seconds = 0\n",
    "        self.__limit = limit\n",
    "        print(f'The stopwatch was initialized at 0 second and max {limit} seconds')\n",
    "        \n",
    "    def tic(self):\n",
    "        if self.__seconds == self.__limit:\n",
    "            self.__seconds = 0\n",
    "        else:\n",
    "            self.__seconds += 1\n",
    "            \n",
    "        self.print_time()\n",
    "        \n",
    "    def set_time(self, newTime):\n",
    "        # we don't accept the new time if it's bigger than the current limit\n",
    "        if newTime > self.__limit:\n",
    "            return\n",
    "        self.__seconds = newTime\n",
    "        self.print_time()\n",
    "    \n",
    "    def get_time(self):\n",
    "        return self.__seconds\n",
    "    \n",
    "    def print_time(self):\n",
    "        print(f'Current time: {self.__seconds}')"
   ]
  },
  {
   "cell_type": "markdown",
   "metadata": {},
   "source": [
    "Nous pouvons maintenant instancier la classe et essayer de modifier la variable ``seconds`` :"
   ]
  },
  {
   "cell_type": "code",
   "execution_count": null,
   "metadata": {},
   "outputs": [],
   "source": [
    "sw = StopWatch(60)\n",
    "sw.tic()\n",
    "sw.tic()\n",
    "sw.seconds = 61\n",
    "sw.tic()"
   ]
  },
  {
   "cell_type": "markdown",
   "metadata": {},
   "source": [
    "Nous pouvons voir que nous avons essayé de modifier l'attribut ``seconds`` qui est privé mais rien n'a été modifié.\n",
    "\n",
    "Puis si nous essayons de modifier la variable en passant par le **setteur** mais en mettant une valeur non valide, alors le **setteur** va détecter la valeur et ne rien modifier."
   ]
  },
  {
   "cell_type": "code",
   "execution_count": null,
   "metadata": {},
   "outputs": [],
   "source": [
    "sw.set_time(61)\n",
    "sw.tic()\n",
    "sw.set_time(51)\n",
    "sw.tic()\n",
    "print(\"The time is now \" + str(sw.get_time()))"
   ]
  },
  {
   "cell_type": "markdown",
   "metadata": {},
   "source": [
    "L'exemple ci-dessus montre qu'il est possible de protéger ses objets de mauvaises manipulation en les **encapsulant**. \n",
    "\n",
    "La première étape de l'encapsulation est de rendre un attribut **privé**. Pour se faire, il faut noter l'attribut de la façon suivante: ``self.__ATRIBUT``. Il devient alors visible uniquement à l'intérieur de la classe et invisible à l'extérieur. \n",
    "\n",
    "La seconde étape consiste à créer des méthodes qu'on appelle **getteurs** et **setteurs** afin d'accéder et modifier les attributs. Par convention, les **getteurs** commencent par **get** et les **setteurs** commencent par **set**.\n",
    "\n",
    "Si nous reprenons l'exemple du **setteur** ci-dessus:\n",
    "```python\n",
    "def setTime(self, newTime):\n",
    "    # we don't accept the new time if it's bigger than the current limit\n",
    "    if newTime > self.__limit:\n",
    "        return\n",
    "    self.__seconds = newTime\n",
    "```\n",
    "Nous voyons que l'attribut **self.__limit** est invisible à l'extérieur. La méthode **set_time** s'occupe de modifier l'attribut depuis l'extérieur de la classe et contrôle si la valeur fournit en paramètre est correcte."
   ]
  },
  {
   "cell_type": "markdown",
   "metadata": {},
   "source": [
    "#### Exercice\n",
    "C'est maintenant à votre tour de créer une classe ``Enemy``. \n",
    "\n",
    "Cette classe est composée d'un attribut ``hp`` qui est le nombre de point de vie de 0 à 100.\n",
    "\n",
    "Elle est composée de trois méthodes:\n",
    "1. La première qui est ``status()`` affiche le status de l'ennemi. \n",
    "    * L'ennemi doit afficher **dead** s'il est mort. \n",
    "    * S'il est à 100 de vie on affiche **alife with full hp**\n",
    "    * s'il à entre 1 et 99 points de vie on affiche **alive with x hp**.\n",
    "2. La seconde est ``damage(val)`` qui fait perdre des points de vie à l'ennemi. \n",
    "    * Attention, il ne peut pas passer en dessous de zéro hp.\n",
    "3. La dernière est ``heal(val)`` qui fait regagner des points de vie à l'ennemi. \n",
    "    * Attention, il ne peut pas avoir plus de 100hp.\n",
    "\n",
    "Il ne doit pas être possible de modifier directement l'attribut ``hp`` de l'ennemi."
   ]
  },
  {
   "cell_type": "code",
   "execution_count": null,
   "metadata": {},
   "outputs": [],
   "source": [
    "class Enemy:\n",
    "    def __init__(self, name):\n",
    "        self.name = None\n",
    "    \n",
    "    def damage(self, val):\n",
    "        pass\n",
    "    \n",
    "    def heal(self, val):\n",
    "        pass\n",
    "    \n",
    "    def status(self):\n",
    "        pass\n",
    "        \n",
    "    def __str__(self):\n",
    "        return f'{self.name} is {self.status()}'\n",
    "\n",
    "bob = Enemy('Bob')\n",
    "bob.damage(10)\n",
    "print(bob)\n",
    "\n",
    "bob.damage(150)\n",
    "print(bob)\n",
    "\n",
    "bob.heal(150)\n",
    "print(bob)"
   ]
  },
  {
   "cell_type": "markdown",
   "metadata": {},
   "source": [
    "## A retenir\n",
    "* Une classe permet de définir un ensemble d'objets qui ont des caractéristiques communes. \n",
    "* C'est un moule permettant de créer une infinité d'objets différents dans leurs valeurs mais similaires dans leur structure.\n",
    "* Définir une classe c'est définir les attributs et les méthodes de cette classe.\n",
    "* La méthode ``__init__`` est le constructeur de la classe. Elle est utilisée à la création des objets de la classe et initialise les attributs de l'objet.\n",
    "* Pour utiliser une méthode d'une classe, il faut d'abord créer une instance de cette classe et l'assigner à une variable"
   ]
  },
  {
   "cell_type": "markdown",
   "metadata": {},
   "source": [
    "## Références\n",
    "\n",
    "1. [1] Informatique INF, DUNOD 2017, ISBN 978-2-10-076094\n",
    "1. [2] OOP image in introduction chapter, https://pythonprogramming.net/object-oriented-programming-introduction-intermediate-python-tutorial/"
   ]
  }
 ],
 "metadata": {
  "kernelspec": {
   "display_name": "Python 3",
   "language": "python",
   "name": "python3"
  },
  "language_info": {
   "codemirror_mode": {
    "name": "ipython",
    "version": 3
   },
   "file_extension": ".py",
   "mimetype": "text/x-python",
   "name": "python",
   "nbconvert_exporter": "python",
   "pygments_lexer": "ipython3",
   "version": "3.7.9"
  },
  "toc-autonumbering": true
 },
 "nbformat": 4,
 "nbformat_minor": 4
}
